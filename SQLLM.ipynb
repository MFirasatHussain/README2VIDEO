{
  "nbformat": 4,
  "nbformat_minor": 0,
  "metadata": {
    "colab": {
      "provenance": []
    },
    "kernelspec": {
      "name": "python3",
      "display_name": "Python 3"
    },
    "language_info": {
      "name": "python"
    }
  },
  "cells": [
    {
      "cell_type": "code",
      "execution_count": 1,
      "metadata": {
        "colab": {
          "base_uri": "https://localhost:8080/"
        },
        "id": "QY5YENK3U1U0",
        "outputId": "41832c23-d686-4828-900b-75ffc4896007"
      },
      "outputs": [
        {
          "output_type": "stream",
          "name": "stdout",
          "text": [
            "Requirement already satisfied: openai==0.28 in /usr/local/lib/python3.10/dist-packages (0.28.0)\n",
            "Requirement already satisfied: requests>=2.20 in /usr/local/lib/python3.10/dist-packages (from openai==0.28) (2.31.0)\n",
            "Requirement already satisfied: tqdm in /usr/local/lib/python3.10/dist-packages (from openai==0.28) (4.66.4)\n",
            "Requirement already satisfied: aiohttp in /usr/local/lib/python3.10/dist-packages (from openai==0.28) (3.9.5)\n",
            "Requirement already satisfied: charset-normalizer<4,>=2 in /usr/local/lib/python3.10/dist-packages (from requests>=2.20->openai==0.28) (3.3.2)\n",
            "Requirement already satisfied: idna<4,>=2.5 in /usr/local/lib/python3.10/dist-packages (from requests>=2.20->openai==0.28) (3.7)\n",
            "Requirement already satisfied: urllib3<3,>=1.21.1 in /usr/local/lib/python3.10/dist-packages (from requests>=2.20->openai==0.28) (2.0.7)\n",
            "Requirement already satisfied: certifi>=2017.4.17 in /usr/local/lib/python3.10/dist-packages (from requests>=2.20->openai==0.28) (2024.2.2)\n",
            "Requirement already satisfied: aiosignal>=1.1.2 in /usr/local/lib/python3.10/dist-packages (from aiohttp->openai==0.28) (1.3.1)\n",
            "Requirement already satisfied: attrs>=17.3.0 in /usr/local/lib/python3.10/dist-packages (from aiohttp->openai==0.28) (23.2.0)\n",
            "Requirement already satisfied: frozenlist>=1.1.1 in /usr/local/lib/python3.10/dist-packages (from aiohttp->openai==0.28) (1.4.1)\n",
            "Requirement already satisfied: multidict<7.0,>=4.5 in /usr/local/lib/python3.10/dist-packages (from aiohttp->openai==0.28) (6.0.5)\n",
            "Requirement already satisfied: yarl<2.0,>=1.0 in /usr/local/lib/python3.10/dist-packages (from aiohttp->openai==0.28) (1.9.4)\n",
            "Requirement already satisfied: async-timeout<5.0,>=4.0 in /usr/local/lib/python3.10/dist-packages (from aiohttp->openai==0.28) (4.0.3)\n"
          ]
        }
      ],
      "source": [
        "!pip install openai==0.28"
      ]
    },
    {
      "cell_type": "code",
      "source": [
        "import sqlite3\n",
        "conn.close()\n",
        "\n",
        "conn = sqlite3.connect('sample.db')\n",
        "cursor = conn.cursor()\n",
        "\n",
        "cursor.execute('DROP TABLE IF EXISTS employees')\n",
        "\n",
        "cursor.execute('''\n",
        "    CREATE TABLE employees (\n",
        "        id INTEGER PRIMARY KEY,\n",
        "        name TEXT NOT NULL,\n",
        "        age INTEGER,\n",
        "        department TEXT\n",
        "    )\n",
        "''')\n",
        "\n",
        "cursor.execute('INSERT INTO employees (name, age, department) VALUES (?, ?, ?)', (\"Alice\", 30, \"HR\"))\n",
        "cursor.execute('INSERT INTO employees (name, age, department) VALUES (?, ?, ?)', (\"Bob\", 24, \"Engineering\"))\n",
        "cursor.execute('INSERT INTO employees (name, age, department) VALUES (?, ?, ?)', (\"Charlie\", 29, \"Sales\"))\n",
        "\n",
        "conn.commit()\n"
      ],
      "metadata": {
        "id": "AIsNR5i-U3LM"
      },
      "execution_count": 30,
      "outputs": []
    },
    {
      "cell_type": "code",
      "source": [
        "import openai\n",
        "\n",
        "openai.api_key = 'sk-proj-BkpeMAvYI6HACybicGBmT3BlbkFJZQaQ08lphOKJFnysDLIG'"
      ],
      "metadata": {
        "id": "c-nqd7U1U43j"
      },
      "execution_count": 31,
      "outputs": []
    },
    {
      "cell_type": "code",
      "source": [
        "def get_sql_query(natural_language_query):\n",
        "    response = openai.ChatCompletion.create(\n",
        "        model=\"gpt-3.5-turbo\",\n",
        "        messages=[\n",
        "            {\"role\": \"system\", \"content\": \"You are a helpful assistant.\"},\n",
        "            {\"role\": \"user\", \"content\": f\"Convert th  e following natural language query to an SQL query:\\n\\n{natural_language_query}\"}\n",
        "        ]\n",
        "    )\n",
        "\n",
        "    response_text = response.choices[0].message['content'].strip()\n",
        "\n",
        "    start_idx = response_text.find(\"```sql\")\n",
        "    end_idx = response_text.find(\"```\", start_idx + 1)\n",
        "\n",
        "\n",
        "    if start_idx != -1 and end_idx != -1:\n",
        "        sql_query = response_text[start_idx + 6:end_idx].strip()\n",
        "    else:\n",
        "        sql_query = response_text\n",
        "\n",
        "    return sql_query\n"
      ],
      "metadata": {
        "id": "W2aLuezvU6oA"
      },
      "execution_count": 32,
      "outputs": []
    },
    {
      "cell_type": "code",
      "source": [
        "def execute_sql_query(sql_query):\n",
        "    cursor.execute(sql_query)\n",
        "    rows = cursor.fetchall()\n",
        "    return rows\n",
        "\n",
        "def display_results(rows):\n",
        "    for row in rows:\n",
        "        print(row)\n"
      ],
      "metadata": {
        "id": "8LioheDdU8Ad"
      },
      "execution_count": 33,
      "outputs": []
    },
    {
      "cell_type": "code",
      "source": [
        "\n",
        "nl_query = \"Show the person's name who is working in the Engineering dept\"\n",
        "\n",
        "sql_query = get_sql_query(nl_query)\n",
        "print(f\"Generated SQL Query: {sql_query}\")\n",
        "\n",
        "result = execute_sql_query(sql_query)\n",
        "\n",
        "display_results(result)\n"
      ],
      "metadata": {
        "colab": {
          "base_uri": "https://localhost:8080/"
        },
        "id": "05BRw5fvU9c2",
        "outputId": "e46fbe72-0aca-4cc1-cdf2-3bf528c67545"
      },
      "execution_count": 37,
      "outputs": [
        {
          "output_type": "stream",
          "name": "stdout",
          "text": [
            "Generated SQL Query: SELECT name\n",
            "FROM employees\n",
            "WHERE department = 'Engineering';\n",
            "('Bob',)\n"
          ]
        }
      ]
    },
    {
      "cell_type": "code",
      "source": [],
      "metadata": {
        "id": "3Rvbt6MSVgM1"
      },
      "execution_count": null,
      "outputs": []
    }
  ]
}